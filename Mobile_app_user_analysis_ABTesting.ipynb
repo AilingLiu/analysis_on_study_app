{
  "nbformat": 4,
  "nbformat_minor": 0,
  "metadata": {
    "colab": {
      "name": "Mobile_app_user_analysis_ABTesting.ipynb",
      "provenance": [],
      "collapsed_sections": [],
      "authorship_tag": "ABX9TyP6ProYiZqor8Poye3IRs8e",
      "include_colab_link": true
    },
    "kernelspec": {
      "name": "python3",
      "display_name": "Python 3"
    }
  },
  "cells": [
    {
      "cell_type": "markdown",
      "metadata": {
        "id": "view-in-github",
        "colab_type": "text"
      },
      "source": [
        "<a href=\"https://colab.research.google.com/github/AilingLiu/analysis_on_study_app/blob/master/Mobile_app_user_analysis_ABTesting.ipynb\" target=\"_parent\"><img src=\"https://colab.research.google.com/assets/colab-badge.svg\" alt=\"Open In Colab\"/></a>"
      ]
    },
    {
      "cell_type": "markdown",
      "metadata": {
        "id": "Z6WABPedF0nA",
        "colab_type": "text"
      },
      "source": [
        "Analyze user logging sessions with AB testing on new feature, to understand if the new feature is statistically significant, and present suggestions/conclusions to product owner."
      ]
    },
    {
      "cell_type": "markdown",
      "metadata": {
        "id": "83tmo_YEpRyQ",
        "colab_type": "text"
      },
      "source": [
        "# Set up"
      ]
    },
    {
      "cell_type": "code",
      "metadata": {
        "id": "qdmuL2b4k1-D",
        "colab_type": "code",
        "colab": {}
      },
      "source": [
        "import sys\n",
        "assert(sys.version_info >=(3, 5))\n",
        "\n",
        "import sklearn\n",
        "assert(sklearn.__version__ >= \"0.20\")\n",
        "\n",
        "import numpy as np\n",
        "import os\n",
        "\n",
        "import pandas as pd\n",
        "pd.set_option('display.max_rows', 100)\n",
        "\n",
        "%matplotlib inline\n",
        "import matplotlib as mpl\n",
        "import matplotlib.pyplot as plt\n",
        "mpl.rc('axes', labelsize=14)\n",
        "mpl.rc('xtick', labelsize=12)\n",
        "mpl.rc('ytick', labelsize=12)\n",
        "\n",
        "# create project directory\n",
        "PROJECT_ROOT_DIRECTORY = '.'\n",
        "PROJECT_ID = 'Language_learning_app'\n",
        "IMAGE_DIR = os.path.join(PROJECT_ROOT_DIRECTORY, PROJECT_ID, 'IMAGES')\n",
        "os.makedirs(IMAGE_DIR, exist_ok=True)\n",
        "DATA_DIR = os.path.join(PROJECT_ROOT_DIRECTORY, PROJECT_ID, 'DATA')\n",
        "os.makedirs(DATA_DIR, exist_ok=True)\n",
        "\n",
        "# save figure\n",
        "def save_fig(name, path=IMAGE_DIR, extension='png', resolution=300, tight_layout=True):\n",
        "  fig_path = os.path.join(path, name + '.' + extension)\n",
        "  if tight_layout:\n",
        "    plt.tight_layout()\n",
        "  print('Saving figure ', name)\n",
        "  plt.savefig(fig_path, format=extension, dpi=resolution)\n",
        "\n",
        "# ignore warnings\n",
        "import warnings\n",
        "warnings.filterwarnings(action=\"ignore\", message=\"^internal gelsd\")"
      ],
      "execution_count": 0,
      "outputs": []
    },
    {
      "cell_type": "markdown",
      "metadata": {
        "id": "KEnGsxMcpPuM",
        "colab_type": "text"
      },
      "source": [
        "# Get data"
      ]
    },
    {
      "cell_type": "code",
      "metadata": {
        "id": "nUPCXYSalmRz",
        "colab_type": "code",
        "outputId": "7936ef7d-895e-41cb-a90b-75154615007d",
        "colab": {
          "base_uri": "https://localhost:8080/",
          "height": 35
        }
      },
      "source": [
        "data_url = 'https://github.com/AilingLiu/analysis_on_study_app/blob/master/data.zip?raw=true'\n",
        "\n",
        "import urllib\n",
        "import shutil\n",
        "from zipfile import ZipFile\n",
        "\n",
        "def fetch_data(data_url=data_url, data_dir=DATA_DIR):\n",
        "  if not os.path.isdir(DATA_DIR):\n",
        "    os.makedirs(DATA_DIR)\n",
        "  data_path = os.path.join(data_dir, 'mobile_app_data.zip')\n",
        "  urllib.request.urlretrieve(data_url, data_path)\n",
        "  with ZipFile(data_path) as zip_file:\n",
        "    for member in zip_file.namelist():\n",
        "        filename = os.path.basename(member)\n",
        "        if not filename:\n",
        "            continue\n",
        "        # copy file (taken from zipfile's extract)\n",
        "        source = zip_file.open(member)\n",
        "        target = open(os.path.join(data_dir, filename), \"wb\")\n",
        "        with source, target:\n",
        "            shutil.copyfileobj(source, target)\n",
        "    print('Done!') \n",
        "\n",
        "fetch_data()"
      ],
      "execution_count": 0,
      "outputs": [
        {
          "output_type": "stream",
          "text": [
            "Done!\n"
          ],
          "name": "stdout"
        }
      ]
    },
    {
      "cell_type": "code",
      "metadata": {
        "id": "frJW06aFqU0V",
        "colab_type": "code",
        "outputId": "4a9667a1-eb6b-482b-8cb2-373a17ae8a56",
        "colab": {
          "base_uri": "https://localhost:8080/",
          "height": 108
        }
      },
      "source": [
        "# check first few lines of document\n",
        "!head -5 './Language_learning_app/DATA/learner_item_data.csv'"
      ],
      "execution_count": 0,
      "outputs": [
        {
          "output_type": "stream",
          "text": [
            "uuid,created_at,trainer_item_id\n",
            "6953977,2017-01-16 10:54:43.386,0\n",
            "6953977,2017-01-16 10:56:25.717,1\n",
            "6953977,2017-01-16 10:55:50.642,2\n",
            "6953977,2017-01-16 10:54:19.796,3\n"
          ],
          "name": "stdout"
        }
      ]
    },
    {
      "cell_type": "markdown",
      "metadata": {
        "id": "0h7f8x2HxmQm",
        "colab_type": "text"
      },
      "source": [
        "# Load Data"
      ]
    },
    {
      "cell_type": "code",
      "metadata": {
        "id": "UH-SOcQkvlDr",
        "colab_type": "code",
        "colab": {}
      },
      "source": [
        "import pandas as pd\n",
        "\n",
        "learner_data = 'learner_item_data.csv'\n",
        "\n",
        "def load_mobile_data(data_path=DATA_DIR, file_name=learner_data):\n",
        "    csv_path = os.path.join(data_path, file_name)\n",
        "    return pd.read_csv(csv_path, dtype={'uuid': object,'trainer_item_id': object}, parse_dates=True)"
      ],
      "execution_count": 0,
      "outputs": []
    },
    {
      "cell_type": "code",
      "metadata": {
        "id": "Uu9Y2ZfAyWX_",
        "colab_type": "code",
        "outputId": "e10c5932-aeaf-4613-f05e-793aad85a16f",
        "colab": {
          "base_uri": "https://localhost:8080/",
          "height": 198
        }
      },
      "source": [
        "learner_item = load_mobile_data()\n",
        "learner_item.head()"
      ],
      "execution_count": 0,
      "outputs": [
        {
          "output_type": "execute_result",
          "data": {
            "text/html": [
              "<div>\n",
              "<style scoped>\n",
              "    .dataframe tbody tr th:only-of-type {\n",
              "        vertical-align: middle;\n",
              "    }\n",
              "\n",
              "    .dataframe tbody tr th {\n",
              "        vertical-align: top;\n",
              "    }\n",
              "\n",
              "    .dataframe thead th {\n",
              "        text-align: right;\n",
              "    }\n",
              "</style>\n",
              "<table border=\"1\" class=\"dataframe\">\n",
              "  <thead>\n",
              "    <tr style=\"text-align: right;\">\n",
              "      <th></th>\n",
              "      <th>uuid</th>\n",
              "      <th>created_at</th>\n",
              "      <th>trainer_item_id</th>\n",
              "    </tr>\n",
              "  </thead>\n",
              "  <tbody>\n",
              "    <tr>\n",
              "      <th>0</th>\n",
              "      <td>6953977</td>\n",
              "      <td>2017-01-16 10:54:43.386</td>\n",
              "      <td>0</td>\n",
              "    </tr>\n",
              "    <tr>\n",
              "      <th>1</th>\n",
              "      <td>6953977</td>\n",
              "      <td>2017-01-16 10:56:25.717</td>\n",
              "      <td>1</td>\n",
              "    </tr>\n",
              "    <tr>\n",
              "      <th>2</th>\n",
              "      <td>6953977</td>\n",
              "      <td>2017-01-16 10:55:50.642</td>\n",
              "      <td>2</td>\n",
              "    </tr>\n",
              "    <tr>\n",
              "      <th>3</th>\n",
              "      <td>6953977</td>\n",
              "      <td>2017-01-16 10:54:19.796</td>\n",
              "      <td>3</td>\n",
              "    </tr>\n",
              "    <tr>\n",
              "      <th>4</th>\n",
              "      <td>6953977</td>\n",
              "      <td>2017-01-16 10:55:10.654</td>\n",
              "      <td>1</td>\n",
              "    </tr>\n",
              "  </tbody>\n",
              "</table>\n",
              "</div>"
            ],
            "text/plain": [
              "      uuid               created_at trainer_item_id\n",
              "0  6953977  2017-01-16 10:54:43.386               0\n",
              "1  6953977  2017-01-16 10:56:25.717               1\n",
              "2  6953977  2017-01-16 10:55:50.642               2\n",
              "3  6953977  2017-01-16 10:54:19.796               3\n",
              "4  6953977  2017-01-16 10:55:10.654               1"
            ]
          },
          "metadata": {
            "tags": []
          },
          "execution_count": 39
        }
      ]
    },
    {
      "cell_type": "markdown",
      "metadata": {
        "id": "JUHOPQr76lHi",
        "colab_type": "text"
      },
      "source": [
        "# Explore Dataset"
      ]
    },
    {
      "cell_type": "code",
      "metadata": {
        "id": "9xkxwegwyZAP",
        "colab_type": "code",
        "outputId": "d2f53b74-7d52-4499-bac2-336e00956c58",
        "colab": {
          "base_uri": "https://localhost:8080/",
          "height": 163
        }
      },
      "source": [
        "learner_item.info()"
      ],
      "execution_count": 0,
      "outputs": [
        {
          "output_type": "stream",
          "text": [
            "<class 'pandas.core.frame.DataFrame'>\n",
            "RangeIndex: 1144310 entries, 0 to 1144309\n",
            "Data columns (total 3 columns):\n",
            "uuid               1144310 non-null object\n",
            "created_at         1144310 non-null object\n",
            "trainer_item_id    1144310 non-null object\n",
            "dtypes: object(3)\n",
            "memory usage: 26.2+ MB\n"
          ],
          "name": "stdout"
        }
      ]
    },
    {
      "cell_type": "code",
      "metadata": {
        "id": "orJ5NowmVqgC",
        "colab_type": "code",
        "colab": {}
      },
      "source": [
        "# change the data type of 'created_at' as datetime\n",
        "learner_item['created_at'] = pd.to_datetime(learner_item['created_at'], utc=True)"
      ],
      "execution_count": 0,
      "outputs": []
    },
    {
      "cell_type": "code",
      "metadata": {
        "id": "CRNXQEbD2l72",
        "colab_type": "code",
        "outputId": "8c188484-0ab0-43e9-a341-d832167d5fa4",
        "colab": {
          "base_uri": "https://localhost:8080/",
          "height": 35
        }
      },
      "source": [
        "learner_item.uuid.nunique() # number of unique users in this dataset"
      ],
      "execution_count": 0,
      "outputs": [
        {
          "output_type": "execute_result",
          "data": {
            "text/plain": [
              "7355"
            ]
          },
          "metadata": {
            "tags": []
          },
          "execution_count": 33
        }
      ]
    },
    {
      "cell_type": "code",
      "metadata": {
        "id": "UYprh0zt7TRa",
        "colab_type": "code",
        "outputId": "fbc96bbb-55d6-44ee-e0ea-f0c0fda5b4d5",
        "colab": {
          "base_uri": "https://localhost:8080/",
          "height": 35
        }
      },
      "source": [
        "learner_item.shape"
      ],
      "execution_count": 0,
      "outputs": [
        {
          "output_type": "execute_result",
          "data": {
            "text/plain": [
              "(1144310, 3)"
            ]
          },
          "metadata": {
            "tags": []
          },
          "execution_count": 9
        }
      ]
    },
    {
      "cell_type": "code",
      "metadata": {
        "id": "okBgYimj3iXE",
        "colab_type": "code",
        "outputId": "1df84418-3157-487c-bfe0-766453b965e7",
        "colab": {
          "base_uri": "https://localhost:8080/",
          "height": 72
        }
      },
      "source": [
        "print('Earlier data created at: {}'.format(learner_item.created_at.min()))\n",
        "print('Latest data created at: {}'.format(learner_item.created_at.max()))\n",
        "print('Range of time: {}'.format(learner_item.created_at.max() - learner_item.created_at.min()))"
      ],
      "execution_count": 0,
      "outputs": [
        {
          "output_type": "stream",
          "text": [
            "Earlier data created at: 2016-12-02 09:42:32.694000+00:00\n",
            "Latest data created at: 2017-02-02 00:01:48.316000+00:00\n",
            "Range of time: 61 days 14:19:15.622000\n"
          ],
          "name": "stdout"
        }
      ]
    },
    {
      "cell_type": "markdown",
      "metadata": {
        "id": "M35gZJgS65hG",
        "colab_type": "text"
      },
      "source": [
        "**shape of dataset**\n",
        "\n",
        "This dataset has 1,144,310 rows, 3 columns. Not a large dataset, to split dev and validation set, we can consider using .3 as validation set ratio.\n",
        "\n",
        "**data types**\n",
        "\n",
        "It has 2 categorical attributes (in pandas it's registered as object) and 1 datatime object.\n",
        "\n",
        "There are no missing values in this dataset\n",
        "\n",
        "**Range of Time**\n",
        "\n",
        "This dataset covers two months of records."
      ]
    },
    {
      "cell_type": "markdown",
      "metadata": {
        "id": "ZFvSB_8G00OW",
        "colab_type": "text"
      },
      "source": [
        "# sessionization of activities"
      ]
    },
    {
      "cell_type": "markdown",
      "metadata": {
        "id": "lL4wnDFe06kI",
        "colab_type": "text"
      },
      "source": [
        "The events are not grouped into sessions, so first thing first is to identify those. We define a session as a sequence of events with the same user ID, ordered by timestamp, such that the time difference between any consecutive pair of events is at most one hour."
      ]
    },
    {
      "cell_type": "code",
      "metadata": {
        "id": "hfkED3Smy3NY",
        "colab_type": "code",
        "colab": {}
      },
      "source": [
        "# sort data by user id and session time (created time)\n",
        "learner_item = learner_item.sort_values(by=['uuid', 'created_at'])"
      ],
      "execution_count": 0,
      "outputs": []
    },
    {
      "cell_type": "code",
      "metadata": {
        "id": "6XY_w-r0kdnv",
        "colab_type": "code",
        "outputId": "812be925-4b69-4d1d-dd51-502c381c2769",
        "colab": {
          "base_uri": "https://localhost:8080/",
          "height": 198
        }
      },
      "source": [
        "from datetime import timedelta\n",
        "\n",
        "# set threshold T as maximum session length\n",
        "T = timedelta(seconds=60*60)\n",
        "\n",
        "def create_1hr_session(df, max_duration=T):\n",
        "  dfm = df.copy()\n",
        "  dfm['new_session'] = (dfm[['created_at']].diff()>=max_duration).astype(int)\n",
        "  dfm['increment'] = dfm.groupby('uuid')['new_session'].cumsum()\n",
        "  dfm['session_id'] = dfm['uuid'].astype(str) + '_' + dfm['increment'].astype(str)\n",
        "  dfm.sort_values(by=['uuid','created_at'], inplace=True)\n",
        "  dfm.drop(columns=['new_session', 'increment'], axis=1, inplace=True)\n",
        "  return dfm\n",
        "\n",
        "user_sessions = create_1hr_session(learner_item)\n",
        "user_sessions.head()"
      ],
      "execution_count": 0,
      "outputs": [
        {
          "output_type": "execute_result",
          "data": {
            "text/html": [
              "<div>\n",
              "<style scoped>\n",
              "    .dataframe tbody tr th:only-of-type {\n",
              "        vertical-align: middle;\n",
              "    }\n",
              "\n",
              "    .dataframe tbody tr th {\n",
              "        vertical-align: top;\n",
              "    }\n",
              "\n",
              "    .dataframe thead th {\n",
              "        text-align: right;\n",
              "    }\n",
              "</style>\n",
              "<table border=\"1\" class=\"dataframe\">\n",
              "  <thead>\n",
              "    <tr style=\"text-align: right;\">\n",
              "      <th></th>\n",
              "      <th>uuid</th>\n",
              "      <th>created_at</th>\n",
              "      <th>trainer_item_id</th>\n",
              "      <th>session_id</th>\n",
              "    </tr>\n",
              "  </thead>\n",
              "  <tbody>\n",
              "    <tr>\n",
              "      <th>971898</th>\n",
              "      <td>1002313</td>\n",
              "      <td>2017-01-30 13:23:15.582000+00:00</td>\n",
              "      <td>6756</td>\n",
              "      <td>1002313_0</td>\n",
              "    </tr>\n",
              "    <tr>\n",
              "      <th>971891</th>\n",
              "      <td>1002313</td>\n",
              "      <td>2017-01-30 13:25:27.201000+00:00</td>\n",
              "      <td>6754</td>\n",
              "      <td>1002313_0</td>\n",
              "    </tr>\n",
              "    <tr>\n",
              "      <th>971892</th>\n",
              "      <td>1002313</td>\n",
              "      <td>2017-01-30 13:25:49.940000+00:00</td>\n",
              "      <td>6755</td>\n",
              "      <td>1002313_0</td>\n",
              "    </tr>\n",
              "    <tr>\n",
              "      <th>971896</th>\n",
              "      <td>1002313</td>\n",
              "      <td>2017-01-30 13:26:35.301000+00:00</td>\n",
              "      <td>6753</td>\n",
              "      <td>1002313_0</td>\n",
              "    </tr>\n",
              "    <tr>\n",
              "      <th>971893</th>\n",
              "      <td>1002313</td>\n",
              "      <td>2017-01-30 13:27:19.056000+00:00</td>\n",
              "      <td>6755</td>\n",
              "      <td>1002313_0</td>\n",
              "    </tr>\n",
              "  </tbody>\n",
              "</table>\n",
              "</div>"
            ],
            "text/plain": [
              "           uuid                       created_at trainer_item_id session_id\n",
              "971898  1002313 2017-01-30 13:23:15.582000+00:00            6756  1002313_0\n",
              "971891  1002313 2017-01-30 13:25:27.201000+00:00            6754  1002313_0\n",
              "971892  1002313 2017-01-30 13:25:49.940000+00:00            6755  1002313_0\n",
              "971896  1002313 2017-01-30 13:26:35.301000+00:00            6753  1002313_0\n",
              "971893  1002313 2017-01-30 13:27:19.056000+00:00            6755  1002313_0"
            ]
          },
          "metadata": {
            "tags": []
          },
          "execution_count": 44
        }
      ]
    },
    {
      "cell_type": "markdown",
      "metadata": {
        "id": "F-zP8ss-jBDU",
        "colab_type": "text"
      },
      "source": [
        "# Analysis on sessions"
      ]
    },
    {
      "cell_type": "markdown",
      "metadata": {
        "id": "r704PqwiawzU",
        "colab_type": "text"
      },
      "source": [
        "## What is the distribution (histogram) of session lengths?"
      ]
    },
    {
      "cell_type": "code",
      "metadata": {
        "id": "zvr0KoWwtyy4",
        "colab_type": "code",
        "outputId": "8c860066-418c-4d6e-a77e-5fa97822ba56",
        "colab": {
          "base_uri": "https://localhost:8080/",
          "height": 235
        }
      },
      "source": [
        "# extract session duration in mins\n",
        "session_gb_duration = user_sessions.groupby('session_id').apply(lambda gb: np.round((gb.iloc[-1, 1]-gb.iloc[0, 1])/timedelta(minutes=1), 2))\n",
        "session_gb_duration[:10]"
      ],
      "execution_count": 0,
      "outputs": [
        {
          "output_type": "execute_result",
          "data": {
            "text/plain": [
              "session_id\n",
              "1002313_0     5.26\n",
              "1003270_0     3.80\n",
              "1003726_0     1.63\n",
              "1003726_1    16.51\n",
              "1003726_2    24.86\n",
              "1003911_0    18.54\n",
              "1003911_1     7.01\n",
              "1003911_2     0.07\n",
              "1005340_0    14.43\n",
              "1006034_1     1.26\n",
              "dtype: float64"
            ]
          },
          "metadata": {
            "tags": []
          },
          "execution_count": 45
        }
      ]
    },
    {
      "cell_type": "code",
      "metadata": {
        "id": "oHe6LFJquQKC",
        "colab_type": "code",
        "outputId": "fc715854-634d-42ba-a40c-59d54cc3a822",
        "colab": {
          "base_uri": "https://localhost:8080/",
          "height": 531
        }
      },
      "source": [
        "# plot session duration in histogram\n",
        "session_gb_duration.hist(bins=40, figsize=(10, 7))\n",
        "plt.xlabel('Session Duration (Minute)')\n",
        "plt.ylabel('Frequency')\n",
        "save_fig('EDA_Session_Duration_Hist')"
      ],
      "execution_count": 0,
      "outputs": [
        {
          "output_type": "stream",
          "text": [
            "Saving figure  EDA_Session_Duration_Hist\n"
          ],
          "name": "stdout"
        },
        {
          "output_type": "display_data",
          "data": {
            "image/png": "[encoded data removed]",
            "text/plain": [
              "<Figure size 720x504 with 1 Axes>"
            ]
          },
          "metadata": {
            "tags": []
          }
        }
      ]
    },
    {
      "cell_type": "code",
      "metadata": {
        "id": "EdXjfDHrwwgE",
        "colab_type": "code",
        "outputId": "9b54adb6-f329-4ed3-e029-2eb88791d523",
        "colab": {
          "base_uri": "https://localhost:8080/",
          "height": 181
        }
      },
      "source": [
        "session_gb_duration.describe()"
      ],
      "execution_count": 0,
      "outputs": [
        {
          "output_type": "execute_result",
          "data": {
            "text/plain": [
              "count    23931.000000\n",
              "mean        14.550179\n",
              "std         21.395549\n",
              "min          0.000000\n",
              "25%          2.600000\n",
              "50%          6.970000\n",
              "75%         17.350000\n",
              "max        487.430000\n",
              "dtype: float64"
            ]
          },
          "metadata": {
            "tags": []
          },
          "execution_count": 20
        }
      ]
    },
    {
      "cell_type": "markdown",
      "metadata": {
        "id": "gOSqVw1vwuzo",
        "colab_type": "text"
      },
      "source": [
        "There are 23,931 sessions in total in this dataset. 25% of the instances have a session length lower than 2.6 minutes, 50% are lower than 6.97, and 75% lower than 17.35. The standard deviation at 21.40 shows how dispersed the values are.\n",
        "\n",
        "The histogram shows the session length is tail-heavy: they extend much further to the right of median than to the left. This may be hard for machine learning algorithms as it expect to have bell shape. We can transform it before fitting models."
      ]
    },
    {
      "cell_type": "markdown",
      "metadata": {
        "id": "TjzHyqOoa3_Q",
        "colab_type": "text"
      },
      "source": [
        "## How many people do several sessions a day? How many sessions?"
      ]
    },
    {
      "cell_type": "code",
      "metadata": {
        "id": "2KSTgf09y5co",
        "colab_type": "code",
        "outputId": "59027835-405c-4247-dd1f-aca1bdba3249",
        "colab": {
          "base_uri": "https://localhost:8080/",
          "height": 90
        }
      },
      "source": [
        "# extract number of sessions per day per user\n",
        "sessions_per_day = user_sessions.groupby([user_sessions.uuid, user_sessions.created_at.dt.to_period('D')])['session_id'].nunique().to_frame('session_per_day')\n",
        "\n",
        "# extract maximum sessions per day per user\n",
        "max_sessions_per_day = sessions_per_day.max(level=0)\n",
        "\n",
        "print('\\nNumber of people do several sessions per day: {}'.format((max_sessions_per_day>1).sum()[0]))"
      ],
      "execution_count": 0,
      "outputs": [
        {
          "output_type": "stream",
          "text": [
            "/usr/local/lib/python3.6/dist-packages/pandas/core/arrays/datetimes.py:1269: UserWarning: Converting to PeriodArray/Index representation will drop timezone information.\n",
            "  UserWarning,\n"
          ],
          "name": "stderr"
        },
        {
          "output_type": "stream",
          "text": [
            "\n",
            "Number of people do several sessions per day: 863\n"
          ],
          "name": "stdout"
        }
      ]
    },
    {
      "cell_type": "code",
      "metadata": {
        "id": "JMCobZzZzWs9",
        "colab_type": "code",
        "outputId": "efe83de1-f873-4fe1-8578-e01f6e017c7b",
        "colab": {
          "base_uri": "https://localhost:8080/",
          "height": 288
        }
      },
      "source": [
        "# average sessions per day per user\n",
        "avg_sessions_per_day = sessions_per_day.mean(level=0)\n",
        "avg_sessions_per_day.describe()"
      ],
      "execution_count": 0,
      "outputs": [
        {
          "output_type": "execute_result",
          "data": {
            "text/html": [
              "<div>\n",
              "<style scoped>\n",
              "    .dataframe tbody tr th:only-of-type {\n",
              "        vertical-align: middle;\n",
              "    }\n",
              "\n",
              "    .dataframe tbody tr th {\n",
              "        vertical-align: top;\n",
              "    }\n",
              "\n",
              "    .dataframe thead th {\n",
              "        text-align: right;\n",
              "    }\n",
              "</style>\n",
              "<table border=\"1\" class=\"dataframe\">\n",
              "  <thead>\n",
              "    <tr style=\"text-align: right;\">\n",
              "      <th></th>\n",
              "      <th>session_per_day</th>\n",
              "    </tr>\n",
              "  </thead>\n",
              "  <tbody>\n",
              "    <tr>\n",
              "      <th>count</th>\n",
              "      <td>7355.000000</td>\n",
              "    </tr>\n",
              "    <tr>\n",
              "      <th>mean</th>\n",
              "      <td>1.042616</td>\n",
              "    </tr>\n",
              "    <tr>\n",
              "      <th>std</th>\n",
              "      <td>0.158773</td>\n",
              "    </tr>\n",
              "    <tr>\n",
              "      <th>min</th>\n",
              "      <td>1.000000</td>\n",
              "    </tr>\n",
              "    <tr>\n",
              "      <th>25%</th>\n",
              "      <td>1.000000</td>\n",
              "    </tr>\n",
              "    <tr>\n",
              "      <th>50%</th>\n",
              "      <td>1.000000</td>\n",
              "    </tr>\n",
              "    <tr>\n",
              "      <th>75%</th>\n",
              "      <td>1.000000</td>\n",
              "    </tr>\n",
              "    <tr>\n",
              "      <th>max</th>\n",
              "      <td>3.444444</td>\n",
              "    </tr>\n",
              "  </tbody>\n",
              "</table>\n",
              "</div>"
            ],
            "text/plain": [
              "       session_per_day\n",
              "count      7355.000000\n",
              "mean          1.042616\n",
              "std           0.158773\n",
              "min           1.000000\n",
              "25%           1.000000\n",
              "50%           1.000000\n",
              "75%           1.000000\n",
              "max           3.444444"
            ]
          },
          "metadata": {
            "tags": []
          },
          "execution_count": 48
        }
      ]
    },
    {
      "cell_type": "code",
      "metadata": {
        "id": "0GTrGzNYy7-s",
        "colab_type": "code",
        "outputId": "7369075f-3b67-4af0-9760-7d32fcfe66ff",
        "colab": {
          "base_uri": "https://localhost:8080/",
          "height": 531
        }
      },
      "source": [
        "avg_sessions_per_day.hist(bins=40, figsize=(10, 7))\n",
        "plt.xlabel('Avg. Sessions Per Day')\n",
        "plt.ylabel('Frequency')\n",
        "save_fig('EDA_Avg_Sessions_Per_Day_Hist')"
      ],
      "execution_count": 0,
      "outputs": [
        {
          "output_type": "stream",
          "text": [
            "Saving figure  EDA_Avg_Sessions_Per_Day_Hist\n"
          ],
          "name": "stdout"
        },
        {
          "output_type": "display_data",
          "data": {
            "image/png": "[encoded data removed]",
            "text/plain": [
              "<Figure size 720x504 with 1 Axes>"
            ]
          },
          "metadata": {
            "tags": []
          }
        }
      ]
    },
    {
      "cell_type": "code",
      "metadata": {
        "id": "_tha2lTHeErJ",
        "colab_type": "code",
        "colab": {}
      },
      "source": [
        "# multiple sessions per day per user\n",
        "multiple_session_mask = sessions_per_day['session_per_day'] > 1\n",
        "multiple_sessons_per_day = sessions_per_day.loc[multiple_session_mask]"
      ],
      "execution_count": 0,
      "outputs": []
    },
    {
      "cell_type": "code",
      "metadata": {
        "id": "bwr636t6fQxV",
        "colab_type": "code",
        "outputId": "90f598ca-5f6a-454f-ab68-9a610b074246",
        "colab": {
          "base_uri": "https://localhost:8080/",
          "height": 288
        }
      },
      "source": [
        "multiple_sessons_per_day.describe()"
      ],
      "execution_count": 0,
      "outputs": [
        {
          "output_type": "execute_result",
          "data": {
            "text/html": [
              "<div>\n",
              "<style scoped>\n",
              "    .dataframe tbody tr th:only-of-type {\n",
              "        vertical-align: middle;\n",
              "    }\n",
              "\n",
              "    .dataframe tbody tr th {\n",
              "        vertical-align: top;\n",
              "    }\n",
              "\n",
              "    .dataframe thead th {\n",
              "        text-align: right;\n",
              "    }\n",
              "</style>\n",
              "<table border=\"1\" class=\"dataframe\">\n",
              "  <thead>\n",
              "    <tr style=\"text-align: right;\">\n",
              "      <th></th>\n",
              "      <th>session_per_day</th>\n",
              "    </tr>\n",
              "  </thead>\n",
              "  <tbody>\n",
              "    <tr>\n",
              "      <th>count</th>\n",
              "      <td>1486.000000</td>\n",
              "    </tr>\n",
              "    <tr>\n",
              "      <th>mean</th>\n",
              "      <td>2.166891</td>\n",
              "    </tr>\n",
              "    <tr>\n",
              "      <th>std</th>\n",
              "      <td>0.491415</td>\n",
              "    </tr>\n",
              "    <tr>\n",
              "      <th>min</th>\n",
              "      <td>2.000000</td>\n",
              "    </tr>\n",
              "    <tr>\n",
              "      <th>25%</th>\n",
              "      <td>2.000000</td>\n",
              "    </tr>\n",
              "    <tr>\n",
              "      <th>50%</th>\n",
              "      <td>2.000000</td>\n",
              "    </tr>\n",
              "    <tr>\n",
              "      <th>75%</th>\n",
              "      <td>2.000000</td>\n",
              "    </tr>\n",
              "    <tr>\n",
              "      <th>max</th>\n",
              "      <td>5.000000</td>\n",
              "    </tr>\n",
              "  </tbody>\n",
              "</table>\n",
              "</div>"
            ],
            "text/plain": [
              "       session_per_day\n",
              "count      1486.000000\n",
              "mean          2.166891\n",
              "std           0.491415\n",
              "min           2.000000\n",
              "25%           2.000000\n",
              "50%           2.000000\n",
              "75%           2.000000\n",
              "max           5.000000"
            ]
          },
          "metadata": {
            "tags": []
          },
          "execution_count": 51
        }
      ]
    },
    {
      "cell_type": "markdown",
      "metadata": {
        "id": "amYd0RBQ2mOa",
        "colab_type": "text"
      },
      "source": [
        "There are 7355 users in this dataset. 50% of the users have 1 session per day. The standard deviation is 0.16, indicating majority of the users mainly conduct 1 sesson daily. Nevertheless, as the histogram is skewed to the right, there are 25% of users are having at least 2 sessions per day."
      ]
    },
    {
      "cell_type": "markdown",
      "metadata": {
        "id": "uIpgYMROhUjI",
        "colab_type": "text"
      },
      "source": [
        "Among these 25% users, we get the exact multi-session user number: 863, i.e. users that perform several sessions in any of the day. 75% sessions under 2, maximum sessions 5 session in any of the day."
      ]
    },
    {
      "cell_type": "markdown",
      "metadata": {
        "id": "oYHNKcvW4RyN",
        "colab_type": "text"
      },
      "source": [
        "# A/B Test on new feature"
      ]
    },
    {
      "cell_type": "markdown",
      "metadata": {
        "id": "Xz2AnWHb4Wsx",
        "colab_type": "text"
      },
      "source": [
        "Assume the app owner built a new feature that is supposed to increase activity. To test if it actually increases activity it got released as an A/B test with 40% of the users seeing the new feature (test group) and 60% not seeing it (control group). Possible two metrics to measure the activity:\n",
        "\n",
        "*  Proportion of users per experiment group who do more than one session on at\n",
        "least one day\n",
        "*  Median time per session\n",
        "\n",
        "Check if the new feature has impact on above two metrics. If yes, check how big is the impact.\n",
        "\n",
        "\n"
      ]
    },
    {
      "cell_type": "markdown",
      "metadata": {
        "id": "zbRLkftOjoXa",
        "colab_type": "text"
      },
      "source": [
        "# Load Test Group Data"
      ]
    },
    {
      "cell_type": "code",
      "metadata": {
        "id": "YXD-zDxcziO1",
        "colab_type": "code",
        "outputId": "d7ad225b-47d4-4fde-b68e-1d5bdf8ea091",
        "colab": {
          "base_uri": "https://localhost:8080/",
          "height": 108
        }
      },
      "source": [
        "# check first few lines of document\n",
        "!head -5 './Language_learning_app/DATA/test_groups.csv'"
      ],
      "execution_count": 0,
      "outputs": [
        {
          "output_type": "stream",
          "text": [
            "test_group,uuid\n",
            "control,6953977\n",
            "test,1607983\n",
            "control,6658627\n",
            "control,4848596\n"
          ],
          "name": "stdout"
        }
      ]
    },
    {
      "cell_type": "code",
      "metadata": {
        "id": "RciDzp6N5YgK",
        "colab_type": "code",
        "colab": {}
      },
      "source": [
        "experiment_data = 'test_groups.csv'\n",
        "\n",
        "def load_exp_data(data_path=DATA_DIR, file_name=experiment_data):\n",
        "    csv_path = os.path.join(data_path, file_name)\n",
        "    return pd.read_csv(csv_path, dtype={'test_group': object,'uuid': object})"
      ],
      "execution_count": 0,
      "outputs": []
    },
    {
      "cell_type": "code",
      "metadata": {
        "id": "CUPeRTM65x-P",
        "colab_type": "code",
        "outputId": "49668b0b-f75d-4a44-8305-aa2c6532a263",
        "colab": {
          "base_uri": "https://localhost:8080/",
          "height": 198
        }
      },
      "source": [
        "exp_data = load_exp_data()\n",
        "exp_data.head()"
      ],
      "execution_count": 0,
      "outputs": [
        {
          "output_type": "execute_result",
          "data": {
            "text/html": [
              "<div>\n",
              "<style scoped>\n",
              "    .dataframe tbody tr th:only-of-type {\n",
              "        vertical-align: middle;\n",
              "    }\n",
              "\n",
              "    .dataframe tbody tr th {\n",
              "        vertical-align: top;\n",
              "    }\n",
              "\n",
              "    .dataframe thead th {\n",
              "        text-align: right;\n",
              "    }\n",
              "</style>\n",
              "<table border=\"1\" class=\"dataframe\">\n",
              "  <thead>\n",
              "    <tr style=\"text-align: right;\">\n",
              "      <th></th>\n",
              "      <th>test_group</th>\n",
              "      <th>uuid</th>\n",
              "    </tr>\n",
              "  </thead>\n",
              "  <tbody>\n",
              "    <tr>\n",
              "      <th>0</th>\n",
              "      <td>control</td>\n",
              "      <td>6953977</td>\n",
              "    </tr>\n",
              "    <tr>\n",
              "      <th>1</th>\n",
              "      <td>test</td>\n",
              "      <td>1607983</td>\n",
              "    </tr>\n",
              "    <tr>\n",
              "      <th>2</th>\n",
              "      <td>control</td>\n",
              "      <td>6658627</td>\n",
              "    </tr>\n",
              "    <tr>\n",
              "      <th>3</th>\n",
              "      <td>control</td>\n",
              "      <td>4848596</td>\n",
              "    </tr>\n",
              "    <tr>\n",
              "      <th>4</th>\n",
              "      <td>test</td>\n",
              "      <td>1653336</td>\n",
              "    </tr>\n",
              "  </tbody>\n",
              "</table>\n",
              "</div>"
            ],
            "text/plain": [
              "  test_group     uuid\n",
              "0    control  6953977\n",
              "1       test  1607983\n",
              "2    control  6658627\n",
              "3    control  4848596\n",
              "4       test  1653336"
            ]
          },
          "metadata": {
            "tags": []
          },
          "execution_count": 53
        }
      ]
    },
    {
      "cell_type": "markdown",
      "metadata": {
        "id": "ls8GotpP7jfP",
        "colab_type": "text"
      },
      "source": [
        "## Metric 1: Proportion of users per experiment group who do more than one session on at least one day"
      ]
    },
    {
      "cell_type": "code",
      "metadata": {
        "id": "Z_YHRMsF89IB",
        "colab_type": "code",
        "outputId": "20dced27-83e7-4dee-cbd1-f835478b15c4",
        "colab": {
          "base_uri": "https://localhost:8080/",
          "height": 198
        }
      },
      "source": [
        "multiple_session_status = (max_sessions_per_day>1).rename(columns={'session_per_day': 'multiple_session_conducted'}).reset_index()\n",
        "exp_in_dict = exp_data.set_index('uuid').to_dict('dict')['test_group']\n",
        "\n",
        "multiple_session_status['test_group']=multiple_session_status['uuid'].map(exp_in_dict)\n",
        "multiple_session_status.head(5)"
      ],
      "execution_count": 0,
      "outputs": [
        {
          "output_type": "execute_result",
          "data": {
            "text/html": [
              "<div>\n",
              "<style scoped>\n",
              "    .dataframe tbody tr th:only-of-type {\n",
              "        vertical-align: middle;\n",
              "    }\n",
              "\n",
              "    .dataframe tbody tr th {\n",
              "        vertical-align: top;\n",
              "    }\n",
              "\n",
              "    .dataframe thead th {\n",
              "        text-align: right;\n",
              "    }\n",
              "</style>\n",
              "<table border=\"1\" class=\"dataframe\">\n",
              "  <thead>\n",
              "    <tr style=\"text-align: right;\">\n",
              "      <th></th>\n",
              "      <th>uuid</th>\n",
              "      <th>multiple_session_conducted</th>\n",
              "      <th>test_group</th>\n",
              "    </tr>\n",
              "  </thead>\n",
              "  <tbody>\n",
              "    <tr>\n",
              "      <th>0</th>\n",
              "      <td>1002313</td>\n",
              "      <td>False</td>\n",
              "      <td>test</td>\n",
              "    </tr>\n",
              "    <tr>\n",
              "      <th>1</th>\n",
              "      <td>1003270</td>\n",
              "      <td>False</td>\n",
              "      <td>control</td>\n",
              "    </tr>\n",
              "    <tr>\n",
              "      <th>2</th>\n",
              "      <td>1003726</td>\n",
              "      <td>True</td>\n",
              "      <td>control</td>\n",
              "    </tr>\n",
              "    <tr>\n",
              "      <th>3</th>\n",
              "      <td>1003911</td>\n",
              "      <td>False</td>\n",
              "      <td>test</td>\n",
              "    </tr>\n",
              "    <tr>\n",
              "      <th>4</th>\n",
              "      <td>1005340</td>\n",
              "      <td>False</td>\n",
              "      <td>test</td>\n",
              "    </tr>\n",
              "  </tbody>\n",
              "</table>\n",
              "</div>"
            ],
            "text/plain": [
              "      uuid  multiple_session_conducted test_group\n",
              "0  1002313                       False       test\n",
              "1  1003270                       False    control\n",
              "2  1003726                        True    control\n",
              "3  1003911                       False       test\n",
              "4  1005340                       False       test"
            ]
          },
          "metadata": {
            "tags": []
          },
          "execution_count": 54
        }
      ]
    },
    {
      "cell_type": "markdown",
      "metadata": {
        "id": "hwqsl2cz94ho",
        "colab_type": "text"
      },
      "source": [
        "Method: \n",
        "\n",
        "We will first create count table where users are grouped based on whether they met metric (If yes: True; Else: Fale). \n",
        "\n",
        "Then we will conduct chi square test to test the independence of new feature and its effect on user sessions. If the null hypothesis is rejected, it means these two categorical features are related, hence the metric is proved. We will then use phi coefficient to evaluate its strenght of correlation. \n",
        "\n",
        "Otherwise, if we fail to reject null hypothesis, we will use z test to compare two proportions and again check if these two proportions are different."
      ]
    },
    {
      "cell_type": "code",
      "metadata": {
        "id": "_RIJ58HXJr_b",
        "colab_type": "code",
        "outputId": "25a39be2-2a12-42c9-d2d2-234ceb062b41",
        "colab": {
          "base_uri": "https://localhost:8080/",
          "height": 205
        }
      },
      "source": [
        "def create_count_table(df, group_col='test_group', event_col='multiple_session_conducted', success_label=True):\n",
        "  count_tab = pd.crosstab(df[group_col], df[event_col], margins=True, margins_name='Total')\n",
        "  prop_tab=pd.crosstab(df[group_col], df[event_col], margins=True, margins_name='Total', normalize='index').round(4)\n",
        "  full_tab = count_tab.join(prop_tab, lsuffix='_count', rsuffix='_prop')\n",
        "  print('Count Table: ')\n",
        "  print('*'*40)\n",
        "  display(full_tab)\n",
        "  return full_tab\n",
        "\n",
        "full_tab = create_count_table(multiple_session_status)\n",
        "contingency =full_tab.iloc[:2, :2]"
      ],
      "execution_count": 0,
      "outputs": [
        {
          "output_type": "stream",
          "text": [
            "Count Table: \n",
            "****************************************\n"
          ],
          "name": "stdout"
        },
        {
          "output_type": "display_data",
          "data": {
            "text/html": [
              "<div>\n",
              "<style scoped>\n",
              "    .dataframe tbody tr th:only-of-type {\n",
              "        vertical-align: middle;\n",
              "    }\n",
              "\n",
              "    .dataframe tbody tr th {\n",
              "        vertical-align: top;\n",
              "    }\n",
              "\n",
              "    .dataframe thead th {\n",
              "        text-align: right;\n",
              "    }\n",
              "</style>\n",
              "<table border=\"1\" class=\"dataframe\">\n",
              "  <thead>\n",
              "    <tr style=\"text-align: right;\">\n",
              "      <th>multiple_session_conducted</th>\n",
              "      <th>False_count</th>\n",
              "      <th>True_count</th>\n",
              "      <th>Total</th>\n",
              "      <th>False_prop</th>\n",
              "      <th>True_prop</th>\n",
              "    </tr>\n",
              "    <tr>\n",
              "      <th>test_group</th>\n",
              "      <th></th>\n",
              "      <th></th>\n",
              "      <th></th>\n",
              "      <th></th>\n",
              "      <th></th>\n",
              "    </tr>\n",
              "  </thead>\n",
              "  <tbody>\n",
              "    <tr>\n",
              "      <th>control</th>\n",
              "      <td>3815</td>\n",
              "      <td>494</td>\n",
              "      <td>4309</td>\n",
              "      <td>0.8854</td>\n",
              "      <td>0.1146</td>\n",
              "    </tr>\n",
              "    <tr>\n",
              "      <th>test</th>\n",
              "      <td>2677</td>\n",
              "      <td>369</td>\n",
              "      <td>3046</td>\n",
              "      <td>0.8789</td>\n",
              "      <td>0.1211</td>\n",
              "    </tr>\n",
              "    <tr>\n",
              "      <th>Total</th>\n",
              "      <td>6492</td>\n",
              "      <td>863</td>\n",
              "      <td>7355</td>\n",
              "      <td>0.8827</td>\n",
              "      <td>0.1173</td>\n",
              "    </tr>\n",
              "  </tbody>\n",
              "</table>\n",
              "</div>"
            ],
            "text/plain": [
              "multiple_session_conducted  False_count  True_count  ...  False_prop  True_prop\n",
              "test_group                                           ...                       \n",
              "control                            3815         494  ...      0.8854     0.1146\n",
              "test                               2677         369  ...      0.8789     0.1211\n",
              "Total                              6492         863  ...      0.8827     0.1173\n",
              "\n",
              "[3 rows x 5 columns]"
            ]
          },
          "metadata": {
            "tags": []
          }
        }
      ]
    },
    {
      "cell_type": "markdown",
      "metadata": {
        "id": "T2cqTODVJf1I",
        "colab_type": "text"
      },
      "source": [
        "From the count table above, it shows test group has 1% more than control group on the metric subject. We can construct null hypothesis and use [Chi-square test](https://en.wikipedia.org/wiki/Chi-squared_test#Example_chi-squared_test_for_categorical_data) to check their relationship:\n",
        "\n",
        "**Null Hypothesis**: $u_1=u_2$, i.e. the metric1(proportion of 2+ sessions) is independent on new feature "
      ]
    },
    {
      "cell_type": "code",
      "metadata": {
        "id": "yiZYj76ZBGL3",
        "colab_type": "code",
        "outputId": "22b0b9e9-93d4-421a-b0e1-ec8cb4f2051c",
        "colab": {
          "base_uri": "https://localhost:8080/",
          "height": 163
        }
      },
      "source": [
        "from scipy.stats import chi2_contingency\n",
        "\n",
        "c, p, dof, expected = chi2_contingency(contingency)\n",
        "print('test statistic: {:.2f}\\n p value: {:.2f}\\n degree of freedom: {} \\nexpected frequencies: \\n{}\\n'.format(c, p, dof, expected.round(3)))\n",
        "\n",
        "alpha = 0.05\n",
        "if p <= alpha:\n",
        "\tprint('Dependent (reject H0)')\n",
        "else:\n",
        "\tprint('Independent (fail to reject H0)')"
      ],
      "execution_count": 0,
      "outputs": [
        {
          "output_type": "stream",
          "text": [
            "test statistic: 0.67\n",
            " p value: 0.41\n",
            " degree of freedom: 1 \n",
            "expected frequencies: \n",
            "[[3803.403  505.597]\n",
            " [2688.597  357.403]]\n",
            "\n",
            "Independent (fail to reject H0)\n"
          ],
          "name": "stdout"
        }
      ]
    },
    {
      "cell_type": "markdown",
      "metadata": {
        "id": "M9B7SL6UL_MF",
        "colab_type": "text"
      },
      "source": [
        "We can conclude that the new feature fails statistical significance test. We will continue to proceed z test to compare the proportions of multiple sessions in control and test group."
      ]
    },
    {
      "cell_type": "code",
      "metadata": {
        "id": "XDtFtJFgJO9e",
        "colab_type": "code",
        "outputId": "37e9f19b-2b2c-4392-80f3-5b1e8f71a1dc",
        "colab": {
          "base_uri": "https://localhost:8080/",
          "height": 145
        }
      },
      "source": [
        "# compare proportions of success between control and experiment group based on binomial distribution\n",
        "def get_event_counts(count_table, control_name='control', exp_name='test', success_label='True_count'):\n",
        "  x_cont, x_exp = count_table.loc[control_name, success_label], count_table.loc[exp_name, success_label]\n",
        "  N_cont, N_exp = count_table.loc[control_name, 'Total'], count_table.loc[exp_name, 'Total']\n",
        "  return x_cont, x_exp, N_cont, N_exp  \n",
        "\n",
        "def get_ab_proportion(x_cont, x_exp, N_cont, N_exp):\n",
        "  con_prop = round(x_cont/N_cont, 3)\n",
        "  exp_prop = round(x_exp/N_exp, 3)\n",
        "  print('Estimated proportion in Experiment Group: {}\\nEstimated proportion in Control Group: {}'.format(exp_prop, con_prop))\n",
        "  return exp_prop, con_prop \n",
        "\n",
        "def get_prop_diff(exp_prop, cont_bprop):\n",
        "  estimated_diff = round(exp_prop - cont_bprop, 5)\n",
        "  print('The change due to the experiment is: {}%'.format(estimated_diff*100))\n",
        "  return estimated_diff\n",
        "\n",
        "def get_poopled_prob(x_cont, x_exp, N_cont, N_exp):\n",
        "  return round((x_cont + x_exp) / (N_cont + N_exp), 5)\n",
        "\n",
        "def get_pooled_stderr(pool_prob, n_cont, n_exp):\n",
        "  pool_stderr = np.round(np.sqrt(pool_prob*(1-pool_prob)*(1/n_cont + 1/n_exp)), 5)\n",
        "  print('Pooled Standard Error(Uncertainty): {}'.format(pool_stderr))\n",
        "  return pool_stderr\n",
        "\n",
        "def calculate_margin_error(sig_level=0.05, stderr=0.005):\n",
        "  import scipy.stats as st\n",
        "  me = round(st.norm.ppf(1-sig_level/2)*stderr, 5)\n",
        "  print('Calculated Margin Error: {} at {} significance level'.format(me, sig_level))\n",
        "  return me\n",
        "\n",
        "def get_confi_interval(cal_mean, margin, sig_level=0.05):\n",
        "  conf_level = 1-sig_level\n",
        "  lower_bound = round(cal_mean - margin, 3)\n",
        "  upper_bound = round(cal_mean + margin, 3)\n",
        "  print('True value falls into following interval at {}% confidence: [{}, {}]'.format(conf_level*100,lower_bound, upper_bound))\n",
        "  return lower_bound, upper_bound\n",
        "\n",
        "def evaluate_result(lower_bound, upper_bound, prac_sig=0.02):\n",
        "  if upper_bound < 0 or lower_bound > 0:\n",
        "    print('The change is statistically significant.')\n",
        "    \n",
        "    if lower_bound > prac_sig:\n",
        "      print('The change is practically significant.')\n",
        "    else:\n",
        "      print('The change is fail practical significance expectation.')\n",
        "  else:\n",
        "    print('Fail to reject null hypothesis. The change is not statistically significant.')\n",
        "\n",
        "def compare_two_group_proportion(count_table, success_label='True_count', control_name='control', exp_name='test', sig_level=0.05, prac_sig=0.02):\n",
        "\n",
        "  xcont, xexp, ncont, nexp = get_event_counts(count_table, control_name=control_name, exp_name=exp_name, success_label=success_label)\n",
        "  ap, bp = get_ab_proportion(xcont, xexp, ncont, nexp)\n",
        "  d = get_prop_diff(ap, bp)\n",
        "  p = get_poopled_prob(xcont, xexp, ncont, nexp)\n",
        "  stdr = get_pooled_stderr(p, ncont, nexp)\n",
        "  m = calculate_margin_error(sig_level=sig_level, stderr=stdr)\n",
        "  lb, ub = get_confi_interval(d, m, sig_level=sig_level)\n",
        "  evaluate_result(lower_bound=lb, upper_bound=ub, prac_sig=prac_sig)\n",
        "\n",
        "compare_two_group_proportion(full_tab)"
      ],
      "execution_count": 0,
      "outputs": [
        {
          "output_type": "stream",
          "text": [
            "Estimated proportion in Experiment Group: 0.121\n",
            "Estimated proportion in Control Group: 0.115\n",
            "The change due to the experiment is: 0.6%\n",
            "Pooled Standard Error(Uncertainty): 0.00762\n",
            "Calculated Margin Error: 0.01493 at 0.05 significance level\n",
            "True value falls into following interval at 95.0% confidence: [-0.009, 0.021]\n",
            "Fail to reject null hypothesis. The change is not statistically significant.\n"
          ],
          "name": "stdout"
        }
      ]
    },
    {
      "cell_type": "markdown",
      "metadata": {
        "id": "neFUaIK-OgbQ",
        "colab_type": "text"
      },
      "source": [
        "From the z test above, we can conclude the two proportions from control and experiment groups fail to reject null hypothesis, indicating these two group has no difference in the success proportions. \n",
        "\n",
        "Although the new feature has a 1% change from the test sample, it is not statistically significant. If we were to implement the new feature on more users, it is not likely to see any improvement on users implementing more than 1 session per day. \n"
      ]
    },
    {
      "cell_type": "markdown",
      "metadata": {
        "id": "APnnqfsrRzKt",
        "colab_type": "text"
      },
      "source": [
        "## Metric 2: Median time per session"
      ]
    },
    {
      "cell_type": "markdown",
      "metadata": {
        "id": "-tzdkvTVSY_6",
        "colab_type": "text"
      },
      "source": [
        "Method:\n",
        "\n",
        "We will first use boostrap to resample 1000 times to minimize sample variances of estimation on metric (median time per session).\n",
        "\n",
        "Then, we will use two sample t test to evaluate the median time per session on the the test and control group. "
      ]
    },
    {
      "cell_type": "code",
      "metadata": {
        "id": "RKR2AsqgNukn",
        "colab_type": "code",
        "colab": {}
      },
      "source": [
        "#import datetime \n",
        "session_time = user_sessions.groupby('session_id')['created_at'].apply(lambda gb: (gb.iloc[-1]-gb.iloc[0])/timedelta(minutes=1)).to_frame('session_in_min')\n",
        "session_time['uuid'] = session_time.index.str.split('_').str[0]\n",
        "session_time = session_time.reset_index().merge(exp_data, how='left', on='uuid')"
      ],
      "execution_count": 0,
      "outputs": []
    },
    {
      "cell_type": "code",
      "metadata": {
        "id": "aCJNwGjSUVhS",
        "colab_type": "code",
        "colab": {}
      },
      "source": [
        "control = session_time.loc[session_time['test_group']=='control', ['session_in_min']]\n",
        "test = session_time.loc[session_time['test_group']=='test', ['session_in_min']]"
      ],
      "execution_count": 0,
      "outputs": []
    },
    {
      "cell_type": "code",
      "metadata": {
        "id": "mAeBLoodr0op",
        "colab_type": "code",
        "outputId": "07fc1467-9a18-4faa-eadd-0eb6e5cb9873",
        "colab": {
          "base_uri": "https://localhost:8080/",
          "height": 531
        }
      },
      "source": [
        "# Creating an list with bootstrapped median for each AB-group\n",
        "boot_minutes = []\n",
        "for i in range(1000):\n",
        "    boot_median = session_time.sample(frac=1, replace=True).groupby('test_group')['session_in_min'].median()\n",
        "    boot_minutes.append(boot_median)\n",
        "    \n",
        "boot_minutes = pd.DataFrame(boot_minutes)\n",
        "    \n",
        "# A Kernel Density Estimate plot of the bootstrap distributions\n",
        "boot_minutes.plot(kind='kde', figsize=(10, 7))\n",
        "save_fig('EDA_boost_minute_difference')"
      ],
      "execution_count": 0,
      "outputs": [
        {
          "output_type": "stream",
          "text": [
            "Saving figure  EDA_boost_minute_difference\n"
          ],
          "name": "stdout"
        },
        {
          "output_type": "display_data",
          "data": {
            "image/png": "[encoded data removed]",
            "text/plain": [
              "<Figure size 720x504 with 1 Axes>"
            ]
          },
          "metadata": {
            "tags": []
          }
        }
      ]
    },
    {
      "cell_type": "markdown",
      "metadata": {
        "id": "5QvP351lsQor",
        "colab_type": "text"
      },
      "source": [
        "These two distributions above represent the bootstrap uncertainty over what the underlying session median duration could be for the two AB-groups. Just eyeballing this plot, we can see that there seems to be some evidence of a difference. Specifically, control group has a higher median session duration than test group."
      ]
    },
    {
      "cell_type": "code",
      "metadata": {
        "id": "mRDMwGyp1hyt",
        "colab_type": "code",
        "outputId": "23e621bf-f8cc-4d1a-aee5-df1145e89657",
        "colab": {
          "base_uri": "https://localhost:8080/",
          "height": 531
        }
      },
      "source": [
        "# Adding a column with the % difference between the two AB-groups\n",
        "boot_minutes['diff'] = (boot_minutes.control - boot_minutes.test)/boot_minutes.control * 100\n",
        "\n",
        "ax = boot_minutes['diff'].plot(kind='kde', figsize=(10, 7))\n",
        "ax.set_xlabel('differences from control')\n",
        "save_fig('EDA_control_test_diff')"
      ],
      "execution_count": 0,
      "outputs": [
        {
          "output_type": "stream",
          "text": [
            "Saving figure  EDA_control_test_diff\n"
          ],
          "name": "stdout"
        },
        {
          "output_type": "display_data",
          "data": {
            "image/png": "[encoded data removed]",
            "text/plain": [
              "<Figure size 720x504 with 1 Axes>"
            ]
          },
          "metadata": {
            "tags": []
          }
        }
      ]
    },
    {
      "cell_type": "markdown",
      "metadata": {
        "id": "bInAAbeb4SDS",
        "colab_type": "text"
      },
      "source": [
        "From this graph, we can see that the most likely % difference is around 1% - 3%, and that most of the distribution is above 0%, in favor of control group. But what is the probability that the difference is above 0%? Let's calculate that as well."
      ]
    },
    {
      "cell_type": "code",
      "metadata": {
        "id": "aeZ72YkN3mqF",
        "colab_type": "code",
        "outputId": "9d990bc8-44c4-4a7a-cb71-3bfb45a0618b",
        "colab": {
          "base_uri": "https://localhost:8080/",
          "height": 35
        }
      },
      "source": [
        "prob = (boot_minutes['diff']>0).mean()\n",
        "round(prob*100, 2)"
      ],
      "execution_count": 0,
      "outputs": [
        {
          "output_type": "execute_result",
          "data": {
            "text/plain": [
              "77.7"
            ]
          },
          "metadata": {
            "tags": []
          },
          "execution_count": 69
        }
      ]
    },
    {
      "cell_type": "markdown",
      "metadata": {
        "id": "SX36ICbE5Rvw",
        "colab_type": "text"
      },
      "source": [
        "The bootstrap analysis tells us that there is a high probability (77.7%) that median session duration is better in the control group (no new features). We can now conduct the t test to check if the difference is significant."
      ]
    },
    {
      "cell_type": "code",
      "metadata": {
        "id": "uJdjuIiltRWd",
        "colab_type": "code",
        "outputId": "dad2da23-2e21-4342-a2f4-10df6d34a135",
        "colab": {
          "base_uri": "https://localhost:8080/",
          "height": 54
        }
      },
      "source": [
        "control = boot_minutes['control']\n",
        "test = boot_minutes['test']\n",
        "\n",
        "#check whether the variane of these two groups are equal\n",
        "print('variance in control {}'.format(np.var(control)))\n",
        "print('variance in test {}'.format(np.var(test)))"
      ],
      "execution_count": 0,
      "outputs": [
        {
          "output_type": "stream",
          "text": [
            "variance in control 0.013200893430804451\n",
            "variance in test 0.016510873423741603\n"
          ],
          "name": "stdout"
        }
      ]
    },
    {
      "cell_type": "code",
      "metadata": {
        "id": "pEwnt0zauxWI",
        "colab_type": "code",
        "outputId": "fd48ee11-5184-4725-bc7f-2c168d7c6826",
        "colab": {
          "base_uri": "https://localhost:8080/",
          "height": 35
        }
      },
      "source": [
        "from scipy import stats\n",
        "stats.ttest_ind(control, test, equal_var=False)"
      ],
      "execution_count": 0,
      "outputs": [
        {
          "output_type": "execute_result",
          "data": {
            "text/plain": [
              "Ttest_indResult(statistic=23.82578650821482, pvalue=1.727677086917952e-110)"
            ]
          },
          "metadata": {
            "tags": []
          },
          "execution_count": 73
        }
      ]
    },
    {
      "cell_type": "markdown",
      "metadata": {
        "id": "HGK4DNAXw0Pq",
        "colab_type": "text"
      },
      "source": [
        "Pvalue is smaller than significance level 0.05. We will reject null hypothesis and conclude that the two groups have different median session duration. We can continue to measure the effect size using [Cohen's d](https://en.wikipedia.org/wiki/Effect_size).\n"
      ]
    },
    {
      "cell_type": "code",
      "metadata": {
        "id": "i0kobVBPu5x8",
        "colab_type": "code",
        "outputId": "836f7f42-d2e1-4207-a716-8a5fc12e56ea",
        "colab": {
          "base_uri": "https://localhost:8080/",
          "height": 35
        }
      },
      "source": [
        "def calculate_cohens_d(g1, g2):\n",
        "\n",
        "  differences_group_values = np.subtract(g1, g2)\n",
        "  std_dev_differences_group_values = np.std(differences_group_values, ddof=1)\n",
        "  cohens_d = round(abs((g1.mean() - g2.mean())/std_dev_differences_group_values), 2)\n",
        "  return cohens_d\n",
        "\n",
        "cohen_d = calculate_cohens_d(control, test)\n",
        "cohen_d"
      ],
      "execution_count": 0,
      "outputs": [
        {
          "output_type": "execute_result",
          "data": {
            "text/plain": [
              "0.75"
            ]
          },
          "metadata": {
            "tags": []
          },
          "execution_count": 74
        }
      ]
    },
    {
      "cell_type": "markdown",
      "metadata": {
        "id": "jb8mTT9iy3ih",
        "colab_type": "text"
      },
      "source": [
        "There's a 0.75 difference in means in terms of sample standard deviation units. we can claim that new feature has a strong statistical effect on quantity of session duration. If we were to implement the new feature, it is likely that our user will reduce their average session time. Hence, it is not recommended to implement this new feature."
      ]
    },
    {
      "cell_type": "code",
      "metadata": {
        "id": "33nAtJgNTLg9",
        "colab_type": "code",
        "colab": {}
      },
      "source": [
        ""
      ],
      "execution_count": 0,
      "outputs": []
    }
  ]
}